{
 "cells": [
  {
   "cell_type": "code",
   "execution_count": 1,
   "metadata": {},
   "outputs": [],
   "source": [
    "import numpy as np\n",
    "import pandas as pd\n",
    "import matplotlib.pyplot as plt\n",
    "import seaborn as sns\n",
    "from sklearn.model_selection import train_test_split,GridSearchCV\n",
    "from sklearn.linear_model import LinearRegression,Lasso,Ridge\n",
    "from sklearn.metrics import mean_squared_error,r2_score\n"
   ]
  },
  {
   "cell_type": "code",
   "execution_count": 2,
   "metadata": {},
   "outputs": [],
   "source": [
    "train = pd.read_csv('loan_data_train.csv')\n",
    "test = pd.read_csv('loan_data_test.csv')"
   ]
  },
  {
   "cell_type": "code",
   "execution_count": 3,
   "metadata": {},
   "outputs": [
    {
     "data": {
      "text/html": [
       "<div>\n",
       "<style scoped>\n",
       "    .dataframe tbody tr th:only-of-type {\n",
       "        vertical-align: middle;\n",
       "    }\n",
       "\n",
       "    .dataframe tbody tr th {\n",
       "        vertical-align: top;\n",
       "    }\n",
       "\n",
       "    .dataframe thead th {\n",
       "        text-align: right;\n",
       "    }\n",
       "</style>\n",
       "<table border=\"1\" class=\"dataframe\">\n",
       "  <thead>\n",
       "    <tr style=\"text-align: right;\">\n",
       "      <th></th>\n",
       "      <th>ID</th>\n",
       "      <th>Amount.Requested</th>\n",
       "      <th>Amount.Funded.By.Investors</th>\n",
       "      <th>Interest.Rate</th>\n",
       "      <th>Loan.Length</th>\n",
       "      <th>Loan.Purpose</th>\n",
       "      <th>Debt.To.Income.Ratio</th>\n",
       "      <th>State</th>\n",
       "      <th>Home.Ownership</th>\n",
       "      <th>Monthly.Income</th>\n",
       "      <th>FICO.Range</th>\n",
       "      <th>Open.CREDIT.Lines</th>\n",
       "      <th>Revolving.CREDIT.Balance</th>\n",
       "      <th>Inquiries.in.the.Last.6.Months</th>\n",
       "      <th>Employment.Length</th>\n",
       "    </tr>\n",
       "  </thead>\n",
       "  <tbody>\n",
       "    <tr>\n",
       "      <th>0</th>\n",
       "      <td>79542.0</td>\n",
       "      <td>25000</td>\n",
       "      <td>25000</td>\n",
       "      <td>18.49%</td>\n",
       "      <td>60 months</td>\n",
       "      <td>debt_consolidation</td>\n",
       "      <td>27.56%</td>\n",
       "      <td>VA</td>\n",
       "      <td>MORTGAGE</td>\n",
       "      <td>8606.56</td>\n",
       "      <td>720-724</td>\n",
       "      <td>11</td>\n",
       "      <td>15210</td>\n",
       "      <td>3.0</td>\n",
       "      <td>5 years</td>\n",
       "    </tr>\n",
       "    <tr>\n",
       "      <th>1</th>\n",
       "      <td>75473.0</td>\n",
       "      <td>19750</td>\n",
       "      <td>19750</td>\n",
       "      <td>17.27%</td>\n",
       "      <td>60 months</td>\n",
       "      <td>debt_consolidation</td>\n",
       "      <td>13.39%</td>\n",
       "      <td>NY</td>\n",
       "      <td>MORTGAGE</td>\n",
       "      <td>6737.50</td>\n",
       "      <td>710-714</td>\n",
       "      <td>14</td>\n",
       "      <td>19070</td>\n",
       "      <td>3.0</td>\n",
       "      <td>4 years</td>\n",
       "    </tr>\n",
       "    <tr>\n",
       "      <th>2</th>\n",
       "      <td>67265.0</td>\n",
       "      <td>2100</td>\n",
       "      <td>2100</td>\n",
       "      <td>14.33%</td>\n",
       "      <td>36 months</td>\n",
       "      <td>major_purchase</td>\n",
       "      <td>3.50%</td>\n",
       "      <td>LA</td>\n",
       "      <td>OWN</td>\n",
       "      <td>1000.00</td>\n",
       "      <td>690-694</td>\n",
       "      <td>13</td>\n",
       "      <td>893</td>\n",
       "      <td>1.0</td>\n",
       "      <td>&lt; 1 year</td>\n",
       "    </tr>\n",
       "    <tr>\n",
       "      <th>3</th>\n",
       "      <td>80167.0</td>\n",
       "      <td>28000</td>\n",
       "      <td>28000</td>\n",
       "      <td>16.29%</td>\n",
       "      <td>36 months</td>\n",
       "      <td>credit_card</td>\n",
       "      <td>19.62%</td>\n",
       "      <td>NV</td>\n",
       "      <td>MORTGAGE</td>\n",
       "      <td>7083.33</td>\n",
       "      <td>710-714</td>\n",
       "      <td>12</td>\n",
       "      <td>38194</td>\n",
       "      <td>1.0</td>\n",
       "      <td>10+ years</td>\n",
       "    </tr>\n",
       "    <tr>\n",
       "      <th>4</th>\n",
       "      <td>17240.0</td>\n",
       "      <td>24250</td>\n",
       "      <td>17431.82</td>\n",
       "      <td>12.23%</td>\n",
       "      <td>60 months</td>\n",
       "      <td>credit_card</td>\n",
       "      <td>23.79%</td>\n",
       "      <td>OH</td>\n",
       "      <td>MORTGAGE</td>\n",
       "      <td>5833.33</td>\n",
       "      <td>730-734</td>\n",
       "      <td>6</td>\n",
       "      <td>31061</td>\n",
       "      <td>2.0</td>\n",
       "      <td>10+ years</td>\n",
       "    </tr>\n",
       "  </tbody>\n",
       "</table>\n",
       "</div>"
      ],
      "text/plain": [
       "        ID Amount.Requested Amount.Funded.By.Investors Interest.Rate  \\\n",
       "0  79542.0            25000                      25000        18.49%   \n",
       "1  75473.0            19750                      19750        17.27%   \n",
       "2  67265.0             2100                       2100        14.33%   \n",
       "3  80167.0            28000                      28000        16.29%   \n",
       "4  17240.0            24250                   17431.82        12.23%   \n",
       "\n",
       "  Loan.Length        Loan.Purpose Debt.To.Income.Ratio State Home.Ownership  \\\n",
       "0   60 months  debt_consolidation               27.56%    VA       MORTGAGE   \n",
       "1   60 months  debt_consolidation               13.39%    NY       MORTGAGE   \n",
       "2   36 months      major_purchase                3.50%    LA            OWN   \n",
       "3   36 months         credit_card               19.62%    NV       MORTGAGE   \n",
       "4   60 months         credit_card               23.79%    OH       MORTGAGE   \n",
       "\n",
       "   Monthly.Income FICO.Range Open.CREDIT.Lines Revolving.CREDIT.Balance  \\\n",
       "0         8606.56    720-724                11                    15210   \n",
       "1         6737.50    710-714                14                    19070   \n",
       "2         1000.00    690-694                13                      893   \n",
       "3         7083.33    710-714                12                    38194   \n",
       "4         5833.33    730-734                 6                    31061   \n",
       "\n",
       "   Inquiries.in.the.Last.6.Months Employment.Length  \n",
       "0                             3.0           5 years  \n",
       "1                             3.0           4 years  \n",
       "2                             1.0          < 1 year  \n",
       "3                             1.0         10+ years  \n",
       "4                             2.0         10+ years  "
      ]
     },
     "execution_count": 3,
     "metadata": {},
     "output_type": "execute_result"
    }
   ],
   "source": [
    "train.head()"
   ]
  },
  {
   "cell_type": "code",
   "execution_count": 4,
   "metadata": {},
   "outputs": [
    {
     "data": {
      "text/plain": [
       "Index(['ID', 'Amount.Requested', 'Amount.Funded.By.Investors', 'Interest.Rate',\n",
       "       'Loan.Length', 'Loan.Purpose', 'Debt.To.Income.Ratio', 'State',\n",
       "       'Home.Ownership', 'Monthly.Income', 'FICO.Range', 'Open.CREDIT.Lines',\n",
       "       'Revolving.CREDIT.Balance', 'Inquiries.in.the.Last.6.Months',\n",
       "       'Employment.Length'],\n",
       "      dtype='object')"
      ]
     },
     "execution_count": 4,
     "metadata": {},
     "output_type": "execute_result"
    }
   ],
   "source": [
    "train.columns"
   ]
  },
  {
   "cell_type": "code",
   "execution_count": 5,
   "metadata": {},
   "outputs": [
    {
     "name": "stdout",
     "output_type": "stream",
     "text": [
      "0    18.49%\n",
      "1    17.27%\n",
      "Name: Interest.Rate, dtype: object\n",
      "0    27.56%\n",
      "1    13.39%\n",
      "Name: Debt.To.Income.Ratio, dtype: object\n"
     ]
    }
   ],
   "source": [
    "# Adding Interest.rate column to test data\n",
    "test['Interest.Rate'] = np.nan \n",
    "\n",
    "# Adding data column to both train and test data to perform data preprocessing\n",
    "train['data'] = 'Train' \n",
    "test['data'] = 'Test'\n",
    "\n",
    "\n",
    "# Concating train and test dataframes\n",
    "final = pd.concat([train,test],sort = True)\n",
    "\n",
    "print(final['Interest.Rate'].head(2))\n",
    "print(final['Debt.To.Income.Ratio'].head(2))"
   ]
  },
  {
   "cell_type": "code",
   "execution_count": 6,
   "metadata": {},
   "outputs": [
    {
     "data": {
      "text/plain": [
       "0    720-724\n",
       "1    710-714\n",
       "Name: FICO.Range, dtype: object"
      ]
     },
     "execution_count": 6,
     "metadata": {},
     "output_type": "execute_result"
    }
   ],
   "source": [
    "# Removing '%' symbol from columns\n",
    "for cols in ['Debt.To.Income.Ratio','Interest.Rate']:\n",
    "    final[cols] = final[cols].str.replace('%','')\n",
    "\n",
    "# Converting columns to numeric type\n",
    "for cols in ['Amount.Funded.By.Investors','Amount.Requested', 'Interest.Rate','Debt.To.Income.Ratio',\n",
    "            'Open.CREDIT.Lines','Revolving.CREDIT.Balance']:\n",
    "    final[cols]=pd.to_numeric(final[cols],errors='coerce')\n",
    "    \n",
    "\n",
    "final['FICO.Range'].head(2)"
   ]
  },
  {
   "cell_type": "code",
   "execution_count": 7,
   "metadata": {},
   "outputs": [],
   "source": [
    "# Average of range of values are considered and deleting FicoRange column\n",
    "k = final['FICO.Range'].str.split('-',expand=True).astype(int)\n",
    "final['Fico'] = 0.5*k[0]*k[1]\n",
    "del final['FICO.Range']"
   ]
  },
  {
   "cell_type": "code",
   "execution_count": 8,
   "metadata": {},
   "outputs": [
    {
     "name": "stdout",
     "output_type": "stream",
     "text": [
      "Before\n",
      "['5 years' '4 years' '< 1 year' '10+ years' nan '2 years' '8 years'\n",
      " '1 year' '6 years' '7 years' '3 years' '9 years' '.']\n",
      "After\n",
      "[ 5.  4.  0. 10.  2.  8.  1.  6.  7.  3.  9.]\n"
     ]
    }
   ],
   "source": [
    "print('Before')\n",
    "print(final['Employment.Length'].unique())\n",
    "\n",
    "# Removing unneccessary strings and symbols\n",
    "final['Employment.Length'] = final['Employment.Length'].str.replace('years','')\n",
    "final['Employment.Length'] = final['Employment.Length'].str.replace('year','')\n",
    "final['Employment.Length'] = np.where(final['Employment.Length'].str[0]=='<',0,final['Employment.Length'])\n",
    "final['Employment.Length']=np.where(final['Employment.Length'].str[:2]==\"10\",10,final['Employment.Length'])\n",
    "final['Employment.Length'] = pd.to_numeric(final['Employment.Length'],errors = 'coerce')\n",
    "#Filling null values with mean of the column\n",
    "final['Employment.Length'] = final['Employment.Length'].fillna(round(final['Employment.Length'].mean()))\n",
    "print('After')\n",
    "print(final['Employment.Length'].unique())"
   ]
  },
  {
   "cell_type": "code",
   "execution_count": 9,
   "metadata": {},
   "outputs": [],
   "source": [
    "#Separating numerical and categorical features\n",
    "num_var = [key for key in dict(final.dtypes) if dict(final.dtypes)[key] in ['int64','float64','int32','float32']]\n",
    "cat_var = [key for key in dict(final.dtypes) if dict(final.dtypes)[key] in ['object']]"
   ]
  },
  {
   "cell_type": "code",
   "execution_count": 10,
   "metadata": {},
   "outputs": [
    {
     "data": {
      "image/png": "[encoded data removed]",
      "text/plain": [
       "<Figure size 1267.2x144 with 11 Axes>"
      ]
     },
     "metadata": {
      "needs_background": "light"
     },
     "output_type": "display_data"
    }
   ],
   "source": [
    "# Pair plot to check for linearity\n",
    "sns.pairplot(x_vars = num_var,y_vars = 'Interest.Rate',data = final,height=2,aspect=0.8)\n",
    "plt.show()"
   ]
  },
  {
   "cell_type": "code",
   "execution_count": 11,
   "metadata": {},
   "outputs": [],
   "source": [
    "#Filling null values of cat_var with mode of their respective columns\n",
    "final[cat_var] = final[cat_var].fillna(final[cat_var].mode().iloc[0])\n",
    "\n",
    "# Converting categorical columns to numerical columns using one hot encoding\n",
    "cat_var_dummies = pd.get_dummies(final[cat_var[:4]],drop_first=True)\n",
    "\n",
    "#Dropping cat_var columns and concating one hotted columns to final\n",
    "final = final.drop(cat_var[:4],axis = 1)\n",
    "final = pd.concat([final,cat_var_dummies],axis = 1)"
   ]
  },
  {
   "cell_type": "code",
   "execution_count": 12,
   "metadata": {},
   "outputs": [
    {
     "name": "stdout",
     "output_type": "stream",
     "text": [
      "Total number of rows with missing values is  324\n",
      "It is 13 percent of the entire dataset.\n"
     ]
    }
   ],
   "source": [
    "count=0\n",
    "for i in final.isnull().sum(axis=1):\n",
    "    if i>0:\n",
    "        count=count+1\n",
    "print('Total number of rows with missing values is ', count)\n",
    "print('It is',round((count/len(final.index))*100), 'percent of the entire dataset.')"
   ]
  },
  {
   "cell_type": "code",
   "execution_count": 13,
   "metadata": {},
   "outputs": [],
   "source": [
    "#As the null valued constitute 13% of whole data, we can drop them\n",
    "final = final.dropna()"
   ]
  },
  {
   "cell_type": "code",
   "execution_count": 14,
   "metadata": {},
   "outputs": [],
   "source": [
    "# Separting train and test data\n",
    "train = final[final['data']=='Train'] \n",
    "test = final[final['data']=='Test'] \n",
    "test = test.drop('Interest.Rate',axis =1)\n",
    "train = train.drop('data',axis = 1)\n",
    "test = test.drop('data',axis = 1)"
   ]
  },
  {
   "cell_type": "code",
   "execution_count": null,
   "metadata": {},
   "outputs": [],
   "source": []
  },
  {
   "cell_type": "code",
   "execution_count": 15,
   "metadata": {},
   "outputs": [],
   "source": [
    "#Splitting full train into X(independent variables) and Y(dependent variables)\n",
    "X = train.drop('Interest.Rate',axis = 1)\n",
    "y = train['Interest.Rate']\n"
   ]
  },
  {
   "cell_type": "code",
   "execution_count": 16,
   "metadata": {},
   "outputs": [],
   "source": [
    "# Linear Regression"
   ]
  },
  {
   "cell_type": "code",
   "execution_count": 17,
   "metadata": {},
   "outputs": [],
   "source": [
    "from sklearn.linear_model import LinearRegression\n",
    "lr = LinearRegression()"
   ]
  },
  {
   "cell_type": "code",
   "execution_count": 18,
   "metadata": {},
   "outputs": [],
   "source": [
    "lr.fit(X,y)\n",
    "base_ypred = lr.predict(X)"
   ]
  },
  {
   "cell_type": "code",
   "execution_count": 19,
   "metadata": {},
   "outputs": [
    {
     "data": {
      "text/plain": [
       "-1.6359462804035394e-15"
      ]
     },
     "execution_count": 19,
     "metadata": {},
     "output_type": "execute_result"
    }
   ],
   "source": [
    "residuals = y.values-base_ypred\n",
    "mean_res = np.mean(residuals)\n",
    "mean_res"
   ]
  },
  {
   "cell_type": "code",
   "execution_count": 20,
   "metadata": {},
   "outputs": [],
   "source": [
    "xtrain,xval,ytrain,yval = train_test_split(X,y,test_size = 0.3,random_state=1)"
   ]
  },
  {
   "cell_type": "code",
   "execution_count": 21,
   "metadata": {},
   "outputs": [],
   "source": [
    "from sklearn.preprocessing import StandardScaler\n",
    "sc = StandardScaler()\n",
    "xtrain_scaled = sc.fit_transform(xtrain)\n",
    "xval_scaled = sc.transform(xval)"
   ]
  },
  {
   "cell_type": "markdown",
   "metadata": {},
   "source": [
    "#Assumptions Of Linear Regression"
   ]
  },
  {
   "cell_type": "markdown",
   "metadata": {},
   "source": [
    "## Goldfeld Quandt"
   ]
  },
  {
   "cell_type": "code",
   "execution_count": 22,
   "metadata": {},
   "outputs": [
    {
     "data": {
      "text/plain": [
       "[('F statistic', 0.8776009305320321), ('p-value', 0.9812182790372604)]"
      ]
     },
     "execution_count": 22,
     "metadata": {},
     "output_type": "execute_result"
    }
   ],
   "source": [
    "import statsmodels.stats.api as sms\n",
    "from statsmodels.compat import lzip\n",
    "name = ['F statistic', 'p-value']\n",
    "test = sms.het_goldfeldquandt(residuals, X)\n",
    "lzip(name, test)"
   ]
  },
  {
   "cell_type": "markdown",
   "metadata": {},
   "source": [
    "### Errors are homoscadastic"
   ]
  },
  {
   "cell_type": "code",
   "execution_count": 23,
   "metadata": {},
   "outputs": [],
   "source": [
    "import matplotlib.pyplot as plt"
   ]
  },
  {
   "cell_type": "code",
   "execution_count": 24,
   "metadata": {},
   "outputs": [
    {
     "data": {
      "image/png": "[encoded data removed]",
      "text/plain": [
       "<Figure size 432x288 with 1 Axes>"
      ]
     },
     "metadata": {
      "needs_background": "light"
     },
     "output_type": "display_data"
    }
   ],
   "source": [
    "p = sns.distplot(residuals,kde=True)\n",
    "p = plt.title('Normality of error terms/residuals')"
   ]
  },
  {
   "cell_type": "markdown",
   "metadata": {},
   "source": [
    "### Errors are normal"
   ]
  },
  {
   "cell_type": "markdown",
   "metadata": {},
   "source": [
    "## ljung box test"
   ]
  },
  {
   "cell_type": "code",
   "execution_count": 25,
   "metadata": {},
   "outputs": [
    {
     "data": {
      "text/plain": [
       "0.24585897873312285"
      ]
     },
     "execution_count": 25,
     "metadata": {},
     "output_type": "execute_result"
    }
   ],
   "source": [
    "from statsmodels.stats import diagnostic as diag\n",
    "min(diag.acorr_ljungbox(residuals , lags = 40)[1])"
   ]
  },
  {
   "cell_type": "markdown",
   "metadata": {},
   "source": [
    "### Autocorrelation is absent"
   ]
  },
  {
   "cell_type": "code",
   "execution_count": 26,
   "metadata": {},
   "outputs": [],
   "source": [
    "import statsmodels.api as sm"
   ]
  },
  {
   "cell_type": "code",
   "execution_count": 27,
   "metadata": {},
   "outputs": [
    {
     "data": {
      "image/png": "[encoded data removed]",
      "text/plain": [
       "<Figure size 432x288 with 1 Axes>"
      ]
     },
     "metadata": {
      "needs_background": "light"
     },
     "output_type": "display_data"
    }
   ],
   "source": [
    "# autocorrelation\n",
    "sm.graphics.tsa.plot_acf(residuals, lags=40)\n",
    "plt.show()"
   ]
  },
  {
   "cell_type": "code",
   "execution_count": 28,
   "metadata": {},
   "outputs": [
    {
     "data": {
      "image/png": "[encoded data removed]",
      "text/plain": [
       "<Figure size 432x288 with 1 Axes>"
      ]
     },
     "metadata": {
      "needs_background": "light"
     },
     "output_type": "display_data"
    }
   ],
   "source": [
    "# partial autocorrelation\n",
    "sm.graphics.tsa.plot_pacf(residuals, lags=40)\n",
    "plt.show()"
   ]
  },
  {
   "cell_type": "markdown",
   "metadata": {},
   "source": [
    "#Modeling"
   ]
  },
  {
   "cell_type": "markdown",
   "metadata": {},
   "source": [
    "# Linear Reression "
   ]
  },
  {
   "cell_type": "code",
   "execution_count": 29,
   "metadata": {},
   "outputs": [
    {
     "name": "stdout",
     "output_type": "stream",
     "text": [
      "TRAIN\n",
      "RMSE:  2.006226351870615\n",
      "R2 value:  76.02612329988574\n",
      "TEST\n",
      "RMSE:  2.121806654836906\n",
      "R2 value:  76.03198259051538\n"
     ]
    }
   ],
   "source": [
    "lr.fit(xtrain_scaled,ytrain)\n",
    "ypred = lr.predict(xtrain_scaled)\n",
    "\n",
    "lr_ypred = lr.predict(xval_scaled)\n",
    "\n",
    "print('TRAIN')\n",
    "print('RMSE: ',np.sqrt(mean_squared_error(ytrain,ypred)))\n",
    "print('R2 value: ',r2_score(ytrain,ypred)*100)\n",
    "print('TEST')\n",
    "print('RMSE: ',np.sqrt(mean_squared_error(yval,lr_ypred)))\n",
    "print('R2 value: ',r2_score(yval,lr_ypred)*100)\n"
   ]
  },
  {
   "cell_type": "markdown",
   "metadata": {},
   "source": [
    "# Ridge"
   ]
  },
  {
   "cell_type": "code",
   "execution_count": 30,
   "metadata": {},
   "outputs": [
    {
     "name": "stdout",
     "output_type": "stream",
     "text": [
      "TRAIN\n",
      "RMSE:  2.0081167351725604\n",
      "R2 value:  75.9809228491594\n",
      "TEST\n",
      "RMSE:  2.122392741187897\n",
      "R2 value:  76.01873984956022\n"
     ]
    }
   ],
   "source": [
    "lambdas = np.linspace(1,100,100)\n",
    "params = {'alpha':lambdas}\n",
    "\n",
    "from sklearn.linear_model import Ridge,Lasso\n",
    "\n",
    "ridge = Ridge()\n",
    "grid_search = GridSearchCV(ridge,param_grid=params,cv = 10)\n",
    "grid_search.fit(xtrain_scaled,ytrain)\n",
    "\n",
    "#print(grid_search.best_params_)\n",
    "\n",
    "best_lr_ridge = grid_search.best_estimator_\n",
    "\n",
    "best_lr_ridge.fit(xtrain_scaled,ytrain)\n",
    "ypred = best_lr_ridge.predict(xtrain_scaled)\n",
    "best_lr_ridge_ypred = best_lr_ridge.predict(xval_scaled)\n",
    "\n",
    "print('TRAIN')\n",
    "print('RMSE: ',np.sqrt(mean_squared_error(ytrain,ypred)))\n",
    "print('R2 value: ',r2_score(ytrain,ypred)*100)\n",
    "print('TEST')\n",
    "print('RMSE: ',np.sqrt(mean_squared_error(yval,best_lr_ridge_ypred)))\n",
    "print('R2 value: ',r2_score(yval,best_lr_ridge_ypred)*100)"
   ]
  },
  {
   "cell_type": "markdown",
   "metadata": {},
   "source": [
    "# Lasso"
   ]
  },
  {
   "cell_type": "code",
   "execution_count": 31,
   "metadata": {},
   "outputs": [
    {
     "name": "stdout",
     "output_type": "stream",
     "text": [
      "TRAIN\n",
      "RMSE:  2.6706194993253685\n",
      "R2 value:  57.51824621889774\n",
      "TEST\n",
      "RMSE:  2.794577791738498\n",
      "R2 value:  58.42302350703117\n"
     ]
    }
   ],
   "source": [
    "lasso= Lasso()\n",
    "grid_search = GridSearchCV(lasso,param_grid=params,cv = 10)\n",
    "grid_search.fit(xtrain_scaled,ytrain)\n",
    "best_lr_lasso = grid_search.best_estimator_\n",
    "\n",
    "best_lr_lasso.fit(xtrain_scaled,ytrain)\n",
    "ypred = best_lr_lasso.predict(xtrain_scaled)\n",
    "best_lr_lasso_ypred = best_lr_lasso.predict(xval_scaled)\n",
    "\n",
    "print('TRAIN')\n",
    "print('RMSE: ',np.sqrt(mean_squared_error(ytrain,ypred)))\n",
    "print('R2 value: ',r2_score(ytrain,ypred)*100)\n",
    "print('TEST')\n",
    "print('RMSE: ',np.sqrt(mean_squared_error(yval,best_lr_lasso_ypred)))\n",
    "print('R2 value: ',r2_score(yval,best_lr_lasso_ypred)*100)"
   ]
  },
  {
   "cell_type": "markdown",
   "metadata": {},
   "source": [
    "# Decision Tree"
   ]
  },
  {
   "cell_type": "code",
   "execution_count": 32,
   "metadata": {},
   "outputs": [
    {
     "name": "stdout",
     "output_type": "stream",
     "text": [
      "TRAIN\n",
      "RMSE:  4.1092168961745366e-16\n",
      "R2 value:  100.0\n",
      "TEST\n",
      "RMSE:  2.368937155467482\n",
      "R2 value:  70.12364739516745\n"
     ]
    }
   ],
   "source": [
    "#Applying Random Forest\n",
    "from sklearn.tree import DecisionTreeRegressor\n",
    "dt = DecisionTreeRegressor()\n",
    "dt.fit(xtrain_scaled,ytrain)\n",
    "ypred = dt.predict(xtrain_scaled)\n",
    "dt_ypred = dt.predict(xval_scaled)\n",
    "print('TRAIN')\n",
    "print('RMSE: ',np.sqrt(mean_squared_error(ytrain,ypred)))\n",
    "print('R2 value: ',r2_score(ytrain,ypred)*100)\n",
    "print('TEST')\n",
    "print('RMSE: ',np.sqrt(mean_squared_error(yval,dt_ypred)))\n",
    "print('R2 value: ',r2_score(yval,dt_ypred)*100)\n"
   ]
  },
  {
   "cell_type": "markdown",
   "metadata": {},
   "source": [
    "# Random Forest"
   ]
  },
  {
   "cell_type": "code",
   "execution_count": 33,
   "metadata": {},
   "outputs": [
    {
     "name": "stdout",
     "output_type": "stream",
     "text": [
      "TRAIN\n",
      "RMSE:  0.6188236228361497\n",
      "R2 value:  97.71906886085218\n",
      "TEST\n",
      "RMSE:  1.7244743187673575\n",
      "R2 value:  84.16806641364106\n"
     ]
    }
   ],
   "source": [
    "#Applying Random Forest\n",
    "from sklearn.ensemble import RandomForestRegressor\n",
    "rf = RandomForestRegressor(n_estimators=300)\n",
    "rf.fit(xtrain_scaled,ytrain)\n",
    "ypred = rf.predict(xtrain_scaled)\n",
    "rf_ypred = rf.predict(xval_scaled)\n",
    "print('TRAIN')\n",
    "print('RMSE: ',np.sqrt(mean_squared_error(ytrain,ypred)))\n",
    "print('R2 value: ',r2_score(ytrain,ypred)*100)\n",
    "print('TEST')\n",
    "print('RMSE: ',np.sqrt(mean_squared_error(yval,rf_ypred)))\n",
    "print('R2 value: ',r2_score(yval,rf_ypred)*100)\n"
   ]
  },
  {
   "cell_type": "markdown",
   "metadata": {},
   "source": [
    "# Random Forest with Hyper Parameter Tuning"
   ]
  },
  {
   "cell_type": "code",
   "execution_count": 34,
   "metadata": {},
   "outputs": [
    {
     "name": "stdout",
     "output_type": "stream",
     "text": [
      "TRAIN\n",
      "RMSE:  1.472529443729712\n",
      "R2 value:  87.08464401722344\n",
      "TEST\n",
      "RMSE:  1.817339444374762\n",
      "R2 value:  82.41701511710737\n"
     ]
    }
   ],
   "source": [
    "params = {'n_estimators':[100,300,500],\n",
    "          'max_features':[20,30,40],\n",
    "          'min_samples_leaf':[10,15,20]\n",
    "}\n",
    "\n",
    "grid_search = GridSearchCV(rf,param_grid=params,cv = 5)\n",
    "grid_search.fit(xtrain_scaled,ytrain)\n",
    "grid_search.best_params_\n",
    "best_rf = grid_search.best_estimator_\n",
    "best_rf.fit(xtrain_scaled,ytrain)\n",
    "ypred = best_rf.predict(xtrain_scaled)\n",
    "best_rf_ypred = best_rf.predict(xval_scaled)\n",
    "print('TRAIN')\n",
    "print('RMSE: ',np.sqrt(mean_squared_error(ytrain,ypred)))\n",
    "print('R2 value: ',r2_score(ytrain,ypred)*100)\n",
    "print('TEST')\n",
    "print('RMSE: ',np.sqrt(mean_squared_error(yval,best_rf_ypred)))\n",
    "print('R2 value: ',r2_score(yval,best_rf_ypred)*100)"
   ]
  },
  {
   "cell_type": "markdown",
   "metadata": {},
   "source": [
    "## Among all models 'Random Forest with Hyper Parameter Tuning' is choosen."
   ]
  },
  {
   "cell_type": "code",
   "execution_count": 35,
   "metadata": {},
   "outputs": [],
   "source": [
    "# df = pd.DataFrame({'ID':test.ID,'Interest.Rate':best_rf.predict(test)})\n",
    "# df.to_csv('Submission_1.csv',index=False)"
   ]
  }
 ],
 "metadata": {
  "kernelspec": {
   "display_name": "Python 3",
   "language": "python",
   "name": "python3"
  },
  "language_info": {
   "codemirror_mode": {
    "name": "ipython",
    "version": 3
   },
   "file_extension": ".py",
   "mimetype": "text/x-python",
   "name": "python",
   "nbconvert_exporter": "python",
   "pygments_lexer": "ipython3",
   "version": "3.7.3"
  }
 },
 "nbformat": 4,
 "nbformat_minor": 2
}
